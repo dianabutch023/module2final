{
 "cells": [
  {
   "cell_type": "markdown",
   "id": "0e5d5597-a759-479d-8611-cb7ae04b03b2",
   "metadata": {
    "tags": []
   },
   "source": [
    "# Data Science Tools and Ecosystems "
   ]
  },
  {
   "cell_type": "markdown",
   "id": "ac9ce2cf-74c9-4ae5-9459-22b9fab47bb4",
   "metadata": {},
   "source": [
    "## Author\n",
    "Diana Butch"
   ]
  },
  {
   "cell_type": "markdown",
   "id": "41779005-329f-4584-9733-7768e7e5e054",
   "metadata": {},
   "source": [
    "In this notebook, Data Science Tools and Ecosystem are summarized."
   ]
  },
  {
   "cell_type": "markdown",
   "id": "c282a4a0-e43a-479b-997c-837bb69ef564",
   "metadata": {},
   "source": [
    "**Objectives:** \n",
    "- Popular Languages in Data Science\n",
    "- Commonly used libraries \n",
    "- Examples of arithmetic expressions in Python "
   ]
  },
  {
   "cell_type": "markdown",
   "id": "d58374ac-5fc9-4d1d-aa0b-1051dd163fe3",
   "metadata": {},
   "source": [
    "Some of the popular languages that Data Scientists use are: \n",
    "<ol>\n",
    "<li>Python</li>\n",
    "<li>SQL</li>\n",
    "<li>R</li>\n",
    "</ol>"
   ]
  },
  {
   "cell_type": "markdown",
   "id": "6fc809a1-9e62-4762-a6b4-d98d1666a421",
   "metadata": {},
   "source": [
    "Some of the commonly used libraries used by Data Scientists include:\n",
    "<ol>\n",
    "<li>Pandas</li>\n",
    "<li>PyTorch</li>\n",
    "<li>NumPy</li>\n",
    "</ol>"
   ]
  },
  {
   "cell_type": "markdown",
   "id": "b5072851-5ce1-4cf9-bd1d-21b7abc0fda2",
   "metadata": {
    "jp-MarkdownHeadingCollapsed": true,
    "tags": []
   },
   "source": [
    "| Data Science Tools | \n",
    "| -------------|\n",
    "| Apache Spark |\n",
    "| Excel |\n",
    "| Pandas |"
   ]
  },
  {
   "cell_type": "markdown",
   "id": "328ff6ce-11bc-4881-a0a9-66075c61c5b7",
   "metadata": {},
   "source": [
    "### Below are a few examples of evaluating arithmetic expressions in Python."
   ]
  },
  {
   "cell_type": "code",
   "execution_count": 1,
   "id": "21895af4-58c7-4e57-b13b-560f2b1d2662",
   "metadata": {
    "tags": []
   },
   "outputs": [
    {
     "data": {
      "text/plain": [
       "17"
      ]
     },
     "execution_count": 1,
     "metadata": {},
     "output_type": "execute_result"
    }
   ],
   "source": [
    "# this is a simple arithmetic expression to multiply and add integers\n",
    "(3*4)+5"
   ]
  },
  {
   "cell_type": "code",
   "execution_count": 2,
   "id": "0fab4a92-4336-4e50-aaed-e9c630c78c6d",
   "metadata": {
    "tags": []
   },
   "outputs": [
    {
     "data": {
      "text/plain": [
       "3.3333333333333335"
      ]
     },
     "execution_count": 2,
     "metadata": {},
     "output_type": "execute_result"
    }
   ],
   "source": [
    "# this code will convert 200 minutes to hours by dividing by 60\n",
    "200/60"
   ]
  },
  {
   "cell_type": "code",
   "execution_count": null,
   "id": "8b0026e4-271b-4a6d-81fa-42d17e6d403d",
   "metadata": {},
   "outputs": [],
   "source": []
  }
 ],
 "metadata": {
  "kernelspec": {
   "display_name": "Python",
   "language": "python",
   "name": "conda-env-python-py"
  },
  "language_info": {
   "codemirror_mode": {
    "name": "ipython",
    "version": 3
   },
   "file_extension": ".py",
   "mimetype": "text/x-python",
   "name": "python",
   "nbconvert_exporter": "python",
   "pygments_lexer": "ipython3",
   "version": "3.7.12"
  }
 },
 "nbformat": 4,
 "nbformat_minor": 5
}
